{
 "cells": [
  {
   "cell_type": "markdown",
   "id": "4f15ba0e-12c7-440b-ae73-4839d1913d2c",
   "metadata": {},
   "source": [
    "## Bayesian time series model:\n",
    "#### uses bayesian inference to estimates of a time series. there are many different types of bayesian time series models. this model is a type of state-space model that can be used to model time series data with both trend and seasonal components"
   ]
  },
  {
   "cell_type": "code",
   "execution_count": 1,
   "id": "412aa397-ad06-4738-b787-2328e2e7bc4d",
   "metadata": {},
   "outputs": [
    {
     "name": "stderr",
     "output_type": "stream",
     "text": [
      "WARNING (theano.tensor.blas): Using NumPy C-API based implementation for BLAS functions.\n"
     ]
    }
   ],
   "source": [
    "import numpy as np\n",
    "import pymc3 as pm\n",
    "import matplotlib.pyplot as plt"
   ]
  },
  {
   "cell_type": "code",
   "execution_count": 5,
   "id": "624c8766-e4e4-46dd-8d9f-429b5e090922",
   "metadata": {},
   "outputs": [],
   "source": [
    "#generate toy data\n",
    "np.random.seed(123)\n",
    "n_years = 10\n",
    "n_obs = n_years * 12\n",
    "trend = np.random.normal(size = n_years)\n",
    "seasonal = np.random.normal(size=12)\n",
    "ϵ =np.random.normal(size=n_obs)\n",
    "y = trend[np.arange(n_obs)//12] + seasonal[np.arange(n_obs) %12] + ϵ\n",
    "\n"
   ]
  },
  {
   "cell_type": "code",
   "execution_count": 13,
   "id": "ec1c3fda-7f08-4d25-a824-9da542a7f33f",
   "metadata": {},
   "outputs": [
    {
     "ename": "IndexError",
     "evalue": "too many indices for array",
     "output_type": "error",
     "traceback": [
      "\u001b[1;31m---------------------------------------------------------------------------\u001b[0m",
      "\u001b[1;31mIndexError\u001b[0m                                Traceback (most recent call last)",
      "Cell \u001b[1;32mIn[13], line 15\u001b[0m\n\u001b[0;32m     13\u001b[0m μ_s \u001b[38;5;241m=\u001b[39m β[n_years \u001b[38;5;241m%\u001b[39m\u001b[38;5;241m12\u001b[39m:]\n\u001b[0;32m     14\u001b[0m \u001b[38;5;66;03m#likelihood\u001b[39;00m\n\u001b[1;32m---> 15\u001b[0m y_obs \u001b[38;5;241m=\u001b[39m pm\u001b[38;5;241m.\u001b[39mNormal(\u001b[38;5;124m'\u001b[39m\u001b[38;5;124my_obs\u001b[39m\u001b[38;5;124m'\u001b[39m, mu \u001b[38;5;241m=\u001b[39m \u001b[43mμ_t\u001b[49m\u001b[43m[\u001b[49m\u001b[43mnp\u001b[49m\u001b[38;5;241;43m.\u001b[39;49m\u001b[43marange\u001b[49m\u001b[43m(\u001b[49m\u001b[43mn_obs\u001b[49m\u001b[43m)\u001b[49m\u001b[38;5;241;43m/\u001b[39;49m\u001b[38;5;241;43m/\u001b[39;49m\u001b[38;5;241;43m12\u001b[39;49m\u001b[43m]\u001b[49m \u001b[38;5;241m+\u001b[39m μ_s[np\u001b[38;5;241m.\u001b[39marange(n_obs)\u001b[38;5;241m%\u001b[39m\u001b[38;5;241m12\u001b[39m], sd\u001b[38;5;241m=\u001b[39mσ, observed\u001b[38;5;241m=\u001b[39my)\n\u001b[0;32m     16\u001b[0m \u001b[38;5;66;03m#perform MCMC sampling\u001b[39;00m\n\u001b[0;32m     17\u001b[0m trace \u001b[38;5;241m=\u001b[39m pm\u001b[38;5;241m.\u001b[39msample(\u001b[38;5;241m3000\u001b[39m, chains\u001b[38;5;241m=\u001b[39m\u001b[38;5;241m4\u001b[39m)\n",
      "File \u001b[1;32m~\\anaconda3\\lib\\site-packages\\theano\\tensor\\var.py:493\u001b[0m, in \u001b[0;36m_tensor_py_operators.__getitem__\u001b[1;34m(self, args)\u001b[0m\n\u001b[0;32m    491\u001b[0m \u001b[38;5;66;03m# Check if the number of dimensions isn't too large.\u001b[39;00m\n\u001b[0;32m    492\u001b[0m \u001b[38;5;28;01mif\u001b[39;00m \u001b[38;5;28mself\u001b[39m\u001b[38;5;241m.\u001b[39mndim \u001b[38;5;241m<\u001b[39m index_dim_count:\n\u001b[1;32m--> 493\u001b[0m     \u001b[38;5;28;01mraise\u001b[39;00m \u001b[38;5;167;01mIndexError\u001b[39;00m(\u001b[38;5;124m\"\u001b[39m\u001b[38;5;124mtoo many indices for array\u001b[39m\u001b[38;5;124m\"\u001b[39m)\n\u001b[0;32m    495\u001b[0m \u001b[38;5;66;03m# Convert an Ellipsis if provided into an appropriate number of\u001b[39;00m\n\u001b[0;32m    496\u001b[0m \u001b[38;5;66;03m# slice(None).\u001b[39;00m\n\u001b[0;32m    497\u001b[0m \u001b[38;5;28;01mif\u001b[39;00m \u001b[38;5;28mlen\u001b[39m(ellipses) \u001b[38;5;241m>\u001b[39m \u001b[38;5;241m1\u001b[39m:\n",
      "\u001b[1;31mIndexError\u001b[0m: too many indices for array"
     ]
    }
   ],
   "source": [
    "#define BSTS\n",
    "with pm.Model() as model:\n",
    "    #priors\n",
    "    α = pm.Normal('α', mu=0, sd=10)\n",
    "    β = pm.Normal('β', mu=0, sd=10, shape=12)\n",
    "    σ = pm.HalfNormal('σ', sd=1)\n",
    "    \n",
    "    #trend component\n",
    "    μ_t = α + pm.math.sum(np.arange(n_years) * β[:n_years %12], axis=0)\n",
    "\n",
    "\n",
    "    #seASONAL\n",
    "    μ_s = β[n_years %12:]\n",
    "    #likelihood\n",
    "    y_obs = pm.Normal('y_obs', mu = μ_t[np.arange(n_obs)//12] + μ_s[np.arange(n_obs)%12], sd=σ, observed=y)\n",
    "    #perform MCMC sampling\n",
    "    trace = pm.sample(3000, chains=4)"
   ]
  },
  {
   "cell_type": "code",
   "execution_count": 2,
   "id": "d314c582-411a-45de-8e35-9a553f63ed5e",
   "metadata": {},
   "outputs": [
    {
     "name": "stdout",
     "output_type": "stream",
     "text": [
      "Last updated: Sat Jan 21 2023\n",
      "\n",
      "Python implementation: CPython\n",
      "Python version       : 3.8.8\n",
      "IPython version      : 8.8.0\n",
      "\n",
      "pymc3     : 3.11.5\n",
      "numpy     : 1.22.1\n",
      "matplotlib: 3.6.3\n",
      "\n",
      "Watermark: 2.3.1\n",
      "\n"
     ]
    }
   ],
   "source": [
    "%load_ext watermark\n",
    "%watermark -n -u -v -iv -w"
   ]
  },
  {
   "cell_type": "code",
   "execution_count": null,
   "id": "ac9c36a7-9cdc-44e3-bef9-df11a4b52933",
   "metadata": {},
   "outputs": [],
   "source": []
  }
 ],
 "metadata": {
  "kernelspec": {
   "display_name": "Python 3 (ipykernel)",
   "language": "python",
   "name": "python3"
  },
  "language_info": {
   "codemirror_mode": {
    "name": "ipython",
    "version": 3
   },
   "file_extension": ".py",
   "mimetype": "text/x-python",
   "name": "python",
   "nbconvert_exporter": "python",
   "pygments_lexer": "ipython3",
   "version": "3.8.8"
  }
 },
 "nbformat": 4,
 "nbformat_minor": 5
}
