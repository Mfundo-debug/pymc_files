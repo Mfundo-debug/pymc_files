{
 "cells": [
  {
   "cell_type": "code",
   "execution_count": 1,
   "id": "5ab93163-5269-4454-8449-3400e0199364",
   "metadata": {
    "execution": {
     "iopub.execute_input": "2023-05-05T11:35:44.072940Z",
     "iopub.status.busy": "2023-05-05T11:35:44.064935Z",
     "iopub.status.idle": "2023-05-05T11:35:49.141656Z",
     "shell.execute_reply": "2023-05-05T11:35:49.141656Z",
     "shell.execute_reply.started": "2023-05-05T11:35:44.072940Z"
    }
   },
   "outputs": [
    {
     "name": "stderr",
     "output_type": "stream",
     "text": [
      "WARNING (pytensor.tensor.blas): Using NumPy C-API based implementation for BLAS functions.\n"
     ]
    }
   ],
   "source": [
    "import pymc as pm\n",
    "import numpy as np"
   ]
  },
  {
   "cell_type": "code",
   "execution_count": 2,
   "id": "9462919c-f14b-4da2-96de-8217c0802fed",
   "metadata": {
    "execution": {
     "iopub.execute_input": "2023-05-05T11:35:50.304536Z",
     "iopub.status.busy": "2023-05-05T11:35:50.304536Z",
     "iopub.status.idle": "2023-05-05T11:35:50.316385Z",
     "shell.execute_reply": "2023-05-05T11:35:50.315793Z",
     "shell.execute_reply.started": "2023-05-05T11:35:50.304536Z"
    }
   },
   "outputs": [],
   "source": [
    "# Define the input data and target data\n",
    "input_data = np.array([1, 0, -2, -3])\n",
    "target_data = np.array([0, 0.7, 0.3])"
   ]
  },
  {
   "cell_type": "code",
   "execution_count": 5,
   "id": "fcaebc41-3c16-4eb5-8266-cc39b22a938b",
   "metadata": {
    "execution": {
     "iopub.execute_input": "2023-05-05T11:37:03.240608Z",
     "iopub.status.busy": "2023-05-05T11:37:03.240608Z",
     "iopub.status.idle": "2023-05-05T11:37:03.305390Z",
     "shell.execute_reply": "2023-05-05T11:37:03.305390Z",
     "shell.execute_reply.started": "2023-05-05T11:37:03.240608Z"
    },
    "tags": []
   },
   "outputs": [],
   "source": [
    "# Define the PyMC3 model\n",
    "with pm.Model() as model:\n",
    "    # Define the weights and biases for the hidden layer\n",
    "    weights_hidden = pm.Normal('weights_hidden', mu=0, sigma=1, shape=(4, 3))\n",
    "    biases_hidden = pm.Normal('biases_hidden', mu=0, sigma=1, shape=(3,))\n",
    "    \n",
    "    # Define the weights and biases for the output layer\n",
    "    weights_output = pm.Normal('weights_output', mu=0, sigma=1, shape=(3,))\n",
    "    biases_output = pm.Normal('biases_output', mu=0, sigma=1)\n",
    "    \n",
    "    # Define the input and output variables as theano tensors\n",
    "    input_var = pm.MutableData('input_var', input_data)\n",
    "    target_var = pm.MutableData('target_var', target_data)\n",
    "    \n",
    "    # Define the hidden layer and activation function\n",
    "    hidden = pm.math.sigmoid(pm.math.dot(input_var, weights_hidden) + biases_hidden)\n",
    "    \n",
    "    # Define the output layer and activation function\n",
    "    output = pm.math.sigmoid(pm.math.dot(hidden, weights_output) + biases_output)\n",
    "    \n",
    "    # Define the likelihood function as a Bernoulli distribution\n",
    "    likelihood = pm.Bernoulli('likelihood', p=output, observed=target_var)"
   ]
  },
  {
   "cell_type": "code",
   "execution_count": 6,
   "id": "c241276b-3d57-42e9-8719-dd6424467010",
   "metadata": {
    "execution": {
     "iopub.execute_input": "2023-05-05T11:37:07.991451Z",
     "iopub.status.busy": "2023-05-05T11:37:07.991451Z",
     "iopub.status.idle": "2023-05-05T11:38:01.288524Z",
     "shell.execute_reply": "2023-05-05T11:38:01.288524Z",
     "shell.execute_reply.started": "2023-05-05T11:37:07.991451Z"
    }
   },
   "outputs": [
    {
     "name": "stderr",
     "output_type": "stream",
     "text": [
      "Auto-assigning NUTS sampler...\n",
      "Initializing NUTS using jitter+adapt_diag...\n",
      "Multiprocess sampling (4 chains in 4 jobs)\n",
      "NUTS: [weights_hidden, biases_hidden, weights_output, biases_output]\n"
     ]
    },
    {
     "data": {
      "text/html": [
       "\n",
       "<style>\n",
       "    /* Turns off some styling */\n",
       "    progress {\n",
       "        /* gets rid of default border in Firefox and Opera. */\n",
       "        border: none;\n",
       "        /* Needs to be in here for Safari polyfill so background images work as expected. */\n",
       "        background-size: auto;\n",
       "    }\n",
       "    progress:not([value]), progress:not([value])::-webkit-progress-bar {\n",
       "        background: repeating-linear-gradient(45deg, #7e7e7e, #7e7e7e 10px, #5c5c5c 10px, #5c5c5c 20px);\n",
       "    }\n",
       "    .progress-bar-interrupted, .progress-bar-interrupted::-webkit-progress-bar {\n",
       "        background: #F44336;\n",
       "    }\n",
       "</style>\n"
      ],
      "text/plain": [
       "<IPython.core.display.HTML object>"
      ]
     },
     "metadata": {},
     "output_type": "display_data"
    },
    {
     "data": {
      "text/html": [
       "\n",
       "    <div>\n",
       "      <progress value='8000' class='' max='8000' style='width:300px; height:20px; vertical-align: middle;'></progress>\n",
       "      100.00% [8000/8000 00:07&lt;00:00 Sampling 4 chains, 0 divergences]\n",
       "    </div>\n",
       "    "
      ],
      "text/plain": [
       "<IPython.core.display.HTML object>"
      ]
     },
     "metadata": {},
     "output_type": "display_data"
    },
    {
     "name": "stderr",
     "output_type": "stream",
     "text": [
      "Sampling 4 chains for 1_000 tune and 1_000 draw iterations (4_000 + 4_000 draws total) took 28 seconds.\n"
     ]
    }
   ],
   "source": [
    "# Run the PyMC3 inference algorithm to sample from the posterior distribution\n",
    "with model:\n",
    "    trace = pm.sample(1000, tune=1000)"
   ]
  },
  {
   "cell_type": "code",
   "execution_count": null,
   "id": "225c3e93-5dfc-40f8-9c68-8960e6ff8558",
   "metadata": {},
   "outputs": [],
   "source": []
  }
 ],
 "metadata": {
  "kernelspec": {
   "display_name": "pymc_env",
   "language": "python",
   "name": "pymc_env"
  },
  "language_info": {
   "codemirror_mode": {
    "name": "ipython",
    "version": 3
   },
   "file_extension": ".py",
   "mimetype": "text/x-python",
   "name": "python",
   "nbconvert_exporter": "python",
   "pygments_lexer": "ipython3",
   "version": "3.11.0"
  },
  "widgets": {
   "application/vnd.jupyter.widget-state+json": {
    "state": {},
    "version_major": 2,
    "version_minor": 0
   }
  }
 },
 "nbformat": 4,
 "nbformat_minor": 5
}
